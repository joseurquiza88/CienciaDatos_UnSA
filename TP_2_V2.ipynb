{
  "cells": [
    {
      "cell_type": "markdown",
      "metadata": {
        "id": "1qK5hGNp-o6o"
      },
      "source": [
        "# Introducción a NumPy\n",
        "\n",
        "\n",
        "\n",
        "\n",
        "Este Práctico proporciona una introducción básica a NumPy, destacando algunas de sus características clave y mostrando ejemplos de su uso. A continuación tendrán un resúmen de algunos comando y su implementación. Esto servirá de guia para desarrollar las actividades propuestas a continuación."
      ],
      "id": "1qK5hGNp-o6o"
    },
    {
      "cell_type": "markdown",
      "metadata": {
        "id": "EhfjWsse-o6r"
      },
      "source": [
        "## Comparación entre uso de vectores de Python y NumPy\n",
        "A continuación se presentan varios aspectos para poder comparar la implementación de vectores a través del tipo de datos LISTA , comparado con la implementación de vectores con NumPy:"
      ],
      "id": "EhfjWsse-o6r"
    },
    {
      "cell_type": "markdown",
      "metadata": {
        "id": "c294f2JK-o6s"
      },
      "source": [
        "#### 1- Creación de vectores\n",
        "\n",
        "En esta celda, se importa la biblioteca NumPy y se **CREA UN VECTOR** utilizando Python puro y NumPy. Luego, se imprime cada uno de los vectores."
      ],
      "id": "c294f2JK-o6s"
    },
    {
      "cell_type": "code",
      "execution_count": null,
      "metadata": {
        "id": "_HV2dLLF-o6s",
        "colab": {
          "base_uri": "https://localhost:8080/"
        },
        "outputId": "da33e4a8-5693-449b-c701-014e6436bd98"
      },
      "outputs": [
        {
          "output_type": "stream",
          "name": "stdout",
          "text": [
            "Vector en Python puro: [1, 2, 3, 4, 5]\n",
            "Vector en NumPy: [1.  2.  3.5 4.  5. ]\n",
            "<class 'list'>\n",
            "<class 'numpy.ndarray'>\n"
          ]
        }
      ],
      "source": [
        "import numpy as np\n",
        "vector_py = [1, 2, 3, 4, 5]\n",
        "vector_np = np.array([1, 2, 3.5, 4, 5])\n",
        "print(\"Vector en Python puro:\", vector_py)\n",
        "print(\"Vector en NumPy:\", vector_np)\n",
        "print(type(vector_py))\n",
        "print(type(vector_np))\n"
      ],
      "id": "_HV2dLLF-o6s"
    },
    {
      "cell_type": "markdown",
      "metadata": {
        "id": "dMFB7By3-o6t"
      },
      "source": [
        "#### 2- Operaciones matemáticas\n",
        "En esta celda, se realizan operaciones matemáticas en un vector utilizando Python puro y NumPy. Luego, se imprime el resultado de cada operación."
      ],
      "id": "dMFB7By3-o6t"
    },
    {
      "cell_type": "code",
      "execution_count": null,
      "metadata": {
        "colab": {
          "base_uri": "https://localhost:8080/"
        },
        "id": "fu-4G2Ut-o6t",
        "outputId": "299404c6-8107-4562-e330-e526daf347dc"
      },
      "outputs": [
        {
          "output_type": "stream",
          "name": "stdout",
          "text": [
            "Suma en Python puro: [3, 4, 5, 6, 7]\n",
            "Suma en NumPy: [ 2  4  6  8 10]\n"
          ]
        },
        {
          "output_type": "execute_result",
          "data": {
            "text/plain": [
              "[1, 2, 3, 4, 5, 1, 2, 3, 4, 5]"
            ]
          },
          "metadata": {},
          "execution_count": 38
        }
      ],
      "source": [
        "vector_py = [1, 2, 3, 4, 5]\n",
        "vector_np = np.array([1, 2, 3, 4, 5])\n",
        "suma_py = [x + 2 for x in vector_py]\n",
        "\n",
        "suma_np = vector_np *2\n",
        "print(\"Suma en Python puro:\", suma_py)\n",
        "print(\"Suma en NumPy:\", suma_np)\n",
        "vector_py*2"
      ],
      "id": "fu-4G2Ut-o6t"
    },
    {
      "cell_type": "markdown",
      "metadata": {
        "id": "zNYiFFjG-o6u"
      },
      "source": [
        "#### 3- Indexado y segmentación\n",
        "En esta celda, se realiza el indexado y segmentación en un vector utilizando Python puro y NumPy. Luego, se imprime el resultado de cada operación."
      ],
      "id": "zNYiFFjG-o6u"
    },
    {
      "cell_type": "code",
      "execution_count": null,
      "metadata": {
        "colab": {
          "base_uri": "https://localhost:8080/"
        },
        "id": "c-PIchEg-o6u",
        "outputId": "903f5c8a-c095-4155-ac41-09b43db3131d"
      },
      "outputs": [
        {
          "output_type": "stream",
          "name": "stdout",
          "text": [
            "Segmento en Python puro: [2, 3, 4]\n",
            "Segmento en NumPy: [2 3 4]\n"
          ]
        }
      ],
      "source": [
        "vector_py = [1, 2, 3, 4, 5]\n",
        "vector_np = np.array([1, 2, 3, 4, 5])\n",
        "segmento_py = vector_py[1:4]\n",
        "segmento_np = vector_np[1:4]\n",
        "print(\"Segmento en Python puro:\", segmento_py)\n",
        "print(\"Segmento en NumPy:\", segmento_np)"
      ],
      "id": "c-PIchEg-o6u"
    },
    {
      "cell_type": "markdown",
      "metadata": {
        "id": "v5GzRhOK-o6v"
      },
      "source": [
        "## Operaciones entre vectores y funciones sobre vectores\n",
        "A continuación se presentan algunos ejemplos de operaciones básicas entre vectores utilizando NumPy:"
      ],
      "id": "v5GzRhOK-o6v"
    },
    {
      "cell_type": "markdown",
      "metadata": {
        "id": "KE93Crg_-o6v"
      },
      "source": [
        "#### Suma de vectores\n",
        "En esta celda, se crea un vector 'vector_a' y un vector 'vector_b', y se realiza la suma de ambos vectores utilizando NumPy. Luego, se imprime el resultado."
      ],
      "id": "KE93Crg_-o6v"
    },
    {
      "cell_type": "code",
      "execution_count": null,
      "metadata": {
        "id": "rAzW3AvC-o6v",
        "colab": {
          "base_uri": "https://localhost:8080/"
        },
        "outputId": "44bcbbfe-1224-4a7d-f207-c36cfb12f10d"
      },
      "outputs": [
        {
          "output_type": "stream",
          "name": "stdout",
          "text": [
            "Suma de vectores: [5 7 9]\n"
          ]
        }
      ],
      "source": [
        "vector_a = np.array([1, 2, 3])\n",
        "vector_b = np.array([4, 5, 6])\n",
        "suma_vector = vector_a + vector_b\n",
        "print(\"Suma de vectores:\", suma_vector)"
      ],
      "id": "rAzW3AvC-o6v"
    },
    {
      "cell_type": "markdown",
      "source": [
        "# ***EJERCICIOS PARTE 1***\n",
        "\n",
        "***EJERCICIO 1:***\n",
        "\n",
        "Dada la siguiente tabla (matriz) de datos, donde cada fila representa la cantidad que se vendio en referencia a un solo producto durante toda la semana; mientras que cada columna representa la venta total en un dia de la semana.Obtener la siguiente información detallada:\n",
        "\n",
        "\n",
        "*   Importe total de la venta por cada dia de la semana\n",
        "*   Importe total de la venta por cada producto en la semana\n",
        "*   Importe total de la venta en toda la semana\n",
        "\n"
      ],
      "metadata": {
        "id": "m8wTYxHe6TwA"
      },
      "id": "m8wTYxHe6TwA"
    },
    {
      "cell_type": "code",
      "execution_count": null,
      "metadata": {
        "colab": {
          "base_uri": "https://localhost:8080/"
        },
        "id": "djSElJbA4fVb",
        "outputId": "ccc60384-7e2a-4214-e0ec-ed4a75fd5ffa"
      },
      "outputs": [
        {
          "output_type": "stream",
          "name": "stdout",
          "text": [
            "Total de ventas por día: [107 101 116 110  98 105 107]\n"
          ]
        },
        {
          "output_type": "execute_result",
          "data": {
            "text/plain": [
              "numpy.ndarray"
            ]
          },
          "metadata": {},
          "execution_count": 41
        }
      ],
      "source": [
        "import numpy as np\n",
        "\n",
        "\n",
        "# Datos de ventas diarias de 4 productos durante una semana\n",
        "\n",
        "ventas_diarias = np.array(\n",
        "    #Lun,Mar,Mie,Jue,Vie,Sab,Dom\n",
        "    [[20, 15, 25, 30, 18, 22, 24],  #Producto A\n",
        "    [12, 20, 14, 8, 15, 18, 16],    #Producto B\n",
        "    [35, 28, 32, 30, 26, 24, 30],   #Producto C\n",
        "    [40, 38, 45, 42, 39, 41, 37]    #Producto D\n",
        "    ]\n",
        ")\n",
        "#print(ventas_diarias[1,2])# fila, columna\n",
        "# print(\"Matriz de ventas diarias:\",ventas_diarias)\n",
        "\n",
        "# ==== FORMAS DE RECORRER UNA MATRIZ FIJADA LA COLUMNA J=1\n",
        "#    Calcula la suma total del dia lunes\n",
        "suma=0\n",
        "for i in range(4):\n",
        " # print(ventas_diarias[i,1])# sumando los datos de la columna 1\n",
        "  suma=suma+ventas_diarias[i,1]\n",
        "#print('la suma total del lunes es:', suma)\n",
        "\n",
        "# ===== IMPLEMENTACIÓN DE UN MÉTODO DE NUMPY\n",
        "\n",
        "# Sumar las ventas por día (sumar las columnas)\n",
        "ventas_por_dia = np.sum(ventas_diarias, axis=0)\n",
        "print(\"Total de ventas por día:\",ventas_por_dia)\n",
        "\n",
        "type(ventas_diarias)"
      ],
      "id": "djSElJbA4fVb"
    },
    {
      "cell_type": "code",
      "source": [
        "#Importe total de la venta por cada dia de la semana\n",
        "# mediante la propiedad axis, es posible indicarle que se desea la suma de las filas (1) o columnas (0).\n",
        "ventas_por_dia = np.sum(ventas_diarias, axis=0)\n",
        "print(\"Total de ventas por día:\",ventas_por_dia)\n",
        "#Importe total de la venta por cada producto en la semana\n",
        "ventas_por_producto = np.sum(ventas_diarias, axis=1)\n",
        "print(\"Total de ventas por producto:\",ventas_por_producto)\n",
        "#Importe total de la venta en toda la semana\n",
        "ventas_tot = np.sum(ventas_diarias)\n",
        "print(\"Las ventas totales fueron de:\",ventas_tot)\n"
      ],
      "metadata": {
        "colab": {
          "base_uri": "https://localhost:8080/"
        },
        "id": "-Yt4Mn0lR-By",
        "outputId": "a7313967-3074-46b8-e8f6-26993bd9969e"
      },
      "id": "-Yt4Mn0lR-By",
      "execution_count": null,
      "outputs": [
        {
          "output_type": "stream",
          "name": "stdout",
          "text": [
            "Total de ventas por día: [107 101 116 110  98 105 107]\n",
            "Total de ventas por producto: [154 103 205 282]\n",
            "Las ventas totales fueron de: 744\n"
          ]
        }
      ]
    },
    {
      "cell_type": "markdown",
      "source": [
        "**EJERCICIO 2:**\n",
        "\n",
        "Crear un programa donde se le pida al usuario que ingrese la cantidad de elementos de una lista de números reales positivos. Luego Convertir esa lista en un vector de Numpy.\n",
        "\n"
      ],
      "metadata": {
        "id": "CqUA_dCI6FCc"
      },
      "id": "CqUA_dCI6FCc"
    },
    {
      "cell_type": "code",
      "source": [
        "# Solicito al usuario cuantos numeros quiere ingresar a la lista\n",
        "cantidad_numeros = int(input(\"Cuantos numeros quieres ingesar? \"))\n",
        "# Genero una lista vacia para luego ir rellenandola\n",
        "lista_numeros = []\n",
        "# Solicito al usuario ingrese una serie de numeros. Cuantos? el numero de veces que el usuario ingreso al principio\n",
        "for x in range (cantidad_numeros):\n",
        "  # Le solicita al usuario un numero\n",
        "  numero_ingresado = int(input(\"Puedes ingresar un numero \"))\n",
        "  # Guardo en la lista vacia, los numero ingresados\n",
        "  lista_numeros.append(numero_ingresado)\n",
        "# Transformo la lista en un vector de numpy\n",
        "listaNumpy =  np.array(lista_numeros)\n",
        "print(listaNumpy)\n",
        "# Tipo de objeto => numpy.ndarray\n",
        "type(listaNumpy)"
      ],
      "metadata": {
        "colab": {
          "base_uri": "https://localhost:8080/"
        },
        "id": "r1BBWjMwUOIK",
        "outputId": "7e64953e-e194-44b3-d9ec-d09fa920a40a"
      },
      "id": "r1BBWjMwUOIK",
      "execution_count": null,
      "outputs": [
        {
          "output_type": "stream",
          "name": "stdout",
          "text": [
            "Cuantos numeros quieres ingesar? 2\n",
            "Puedes ingresar un numero 1\n",
            "Puedes ingresar un numero 2\n",
            "[1 2]\n"
          ]
        },
        {
          "output_type": "execute_result",
          "data": {
            "text/plain": [
              "numpy.ndarray"
            ]
          },
          "metadata": {},
          "execution_count": 44
        }
      ]
    },
    {
      "cell_type": "markdown",
      "source": [
        "\n",
        "**Ejercicio 3:**\n",
        "\n",
        "Crear un programa donde el usuario ingrese la cantidad de filas y columnas que tendra una tabla de datos. Luego el programa pedira ingresar los datos de la tabla fila por fila. Todos los datos serán numéricos.\n",
        "\n",
        "Mostrar la tabla ingresada en formato LISTA de Python, y mostrar la misma tabla en formato array de Numpy.\n",
        "\n",
        "Solicitar al usuario que ingrese las posiciones de dos filas y realice la suma  de las mismas. Mostrar este vector resultado."
      ],
      "metadata": {
        "id": "ExpBJWL591Yx"
      },
      "id": "ExpBJWL591Yx"
    },
    {
      "cell_type": "code",
      "source": [
        "# PROGRAMA CON NUMPY\n",
        "filas = int (input(\"Numero de filas: \"))\n",
        "columnas = int (input(\"Numero de columnas: \"))\n",
        "## Creamos una matriz vacía con las dimensiones especificadas por el usuario\n",
        "matrizNumpy = np.zeros([filas,columnas])\n",
        "# Llenar la matriz con valores utilizando un bucle for\n",
        "for i in range(filas):\n",
        "  for j in range(columnas):\n",
        "    num_columna = int (input(\"Ingrese un numero para colocar en la matriz \"))\n",
        "    matrizNumpy[i, j] = num_columna # Puedes asignar cualquier valor a cada elemento según tu necesidad\n",
        "\n",
        "print(matrizNumpy)\n",
        "type(matrizNumpy)"
      ],
      "metadata": {
        "colab": {
          "base_uri": "https://localhost:8080/"
        },
        "id": "ijoLjOR-jmo6",
        "outputId": "d002c40f-acc4-42e5-86a5-4328db4a4a21"
      },
      "id": "ijoLjOR-jmo6",
      "execution_count": null,
      "outputs": [
        {
          "output_type": "stream",
          "name": "stdout",
          "text": [
            "Numero de filas: 2\n",
            "Numero de columnas: 3\n",
            "Ingrese un numero para colocar en la matriz 1\n",
            "Ingrese un numero para colocar en la matriz 2\n",
            "Ingrese un numero para colocar en la matriz 3\n",
            "Ingrese un numero para colocar en la matriz 4\n",
            "Ingrese un numero para colocar en la matriz 5\n",
            "Ingrese un numero para colocar en la matriz 6\n",
            "[[1. 2. 3.]\n",
            " [4. 5. 6.]]\n"
          ]
        },
        {
          "output_type": "execute_result",
          "data": {
            "text/plain": [
              "numpy.ndarray"
            ]
          },
          "metadata": {},
          "execution_count": 45
        }
      ]
    },
    {
      "cell_type": "code",
      "source": [
        "# PROGRAMA CON PYTHON\n",
        "filas = int (input(\"Numero de filas: \"))\n",
        "columnas = int (input(\"Numero de columnas: \"))\n",
        "# Creamos una lista vacia por afuera del for. Es en esta lista donde se van a guardar las listas generadas segun la dimesion ingresada (filas x columnas)\n",
        "matrizPython = []\n",
        "# Primero recorro filas\n",
        "for i in range(filas):\n",
        "  # Se crea una lista por cada fila. Cuando se crea una nueva fila, esta vuelve a ser una lista vacia\n",
        "  # print(listaFilas)\n",
        "  listaFilas = []\n",
        "  # Recorro columnas\n",
        "  for j in range(columnas):\n",
        "    # Pedimos que el usuario ingrese valor\n",
        "    num_columna = int (input(\"Ingrese un numero para colocar en la matriz \"))\n",
        "    # Guardo el dato de cada fila\n",
        "    listaFilas.append(num_columna)\n",
        "  # Guardo toda la lista en la lista general\n",
        "  matrizPython.append(listaFilas)\n",
        "\n",
        "# Resultados\n",
        "print(matrizPython)\n",
        "print(type(matrizPython))"
      ],
      "metadata": {
        "colab": {
          "base_uri": "https://localhost:8080/"
        },
        "id": "Ov1AFXTMmA0r",
        "outputId": "b9dca6b6-0b20-4b1f-bc21-3a9eee96d288"
      },
      "id": "Ov1AFXTMmA0r",
      "execution_count": null,
      "outputs": [
        {
          "output_type": "stream",
          "name": "stdout",
          "text": [
            "Numero de filas: 2\n",
            "Numero de columnas: 3\n",
            "Ingrese un numero para colocar en la matriz 1\n",
            "Ingrese un numero para colocar en la matriz 2\n",
            "Ingrese un numero para colocar en la matriz 3\n",
            "Ingrese un numero para colocar en la matriz 4\n",
            "Ingrese un numero para colocar en la matriz 5\n",
            "Ingrese un numero para colocar en la matriz 6\n",
            "[[1, 2, 3], [4, 5, 6]]\n",
            "<class 'list'>\n"
          ]
        }
      ]
    },
    {
      "cell_type": "code",
      "source": [
        "print(f'La lista generada con PYTHON es {matrizPython} donde la clase es {type(matrizPython)}')\n",
        "print(f'La lista generada en NUMPY es {matrizNumpy} donde la clase es {type(matrizNumpy)}')\n"
      ],
      "metadata": {
        "colab": {
          "base_uri": "https://localhost:8080/"
        },
        "id": "RfB5BjHnqT40",
        "outputId": "efbc1954-e155-48dd-d790-857ef4897ce6"
      },
      "id": "RfB5BjHnqT40",
      "execution_count": null,
      "outputs": [
        {
          "output_type": "stream",
          "name": "stdout",
          "text": [
            "La lista generada con PYTHON es [[1, 2, 3], [4, 5, 6]] donde la clase es <class 'list'>\n",
            "La lista generada en NUMPY es [[1. 2. 3.]\n",
            " [4. 5. 6.]] donde la clase es <class 'numpy.ndarray'>\n"
          ]
        }
      ]
    },
    {
      "cell_type": "markdown",
      "source": [
        "\n",
        "**Ejercicio 4:**\n",
        "\n",
        "\n",
        "A continuación se muestran los valores de  los siguientes productos:\n",
        "\n",
        "['arroz', 'harina','fideo','yerba','azucar']=[145.6 , 100 , 89.90 , 700 , 95]\n",
        "\n",
        "Los valores de estos productos son aproximados de hace dos meses, debido a la inflación y alza de los precios, se vieron afectados de la siguiente manera:\n",
        "*   Producto arroz , harina, azucar duplicaron su precio\n",
        "*   Productos restantes incrementaron en un 75% su precio\n",
        "\n",
        "Mostrar los datos en forma de vector y actualizar sus precios, de manera que se pueda comparar ambos vectores."
      ],
      "metadata": {
        "id": "zOCJT7aV9vZC"
      },
      "id": "zOCJT7aV9vZC"
    },
    {
      "cell_type": "code",
      "source": [
        "# Usamos numpy para hacer calculos\n",
        "#Array de productos\n",
        "productos = np.array(['arroz', 'harina','fideo','yerba','azucar']) # string\n",
        "#Array de precios original\n",
        "preciosOriginal = np.array([145.6 , 100 , 89.90 , 700 , 95]) # Float\n",
        "#Array con el % de auto de cada producto\n",
        "aumento = np.array([100, 100, 75, 75, 100]) #Int\n",
        "#Calculamos el precio actualizado considerando el % de aumento\n",
        "precioActualizado = preciosOriginal * (1 + aumento / 100)\n",
        "\n",
        "# Imprimimos listas\n",
        "print(f\"Lista de productos: {productos}\")\n",
        "print(f\"Lista de precios originales de los productos: {preciosOriginal}\")\n",
        "print(f\"Lista de precios actualizado de los productos: {precioActualizado}\")\n"
      ],
      "metadata": {
        "colab": {
          "base_uri": "https://localhost:8080/"
        },
        "id": "NxMevmHov5yR",
        "outputId": "4d62ae00-5fd3-4141-d284-c7c6ca8f0070"
      },
      "id": "NxMevmHov5yR",
      "execution_count": null,
      "outputs": [
        {
          "output_type": "stream",
          "name": "stdout",
          "text": [
            "Lista de productos: ['arroz' 'harina' 'fideo' 'yerba' 'azucar']\n",
            "Lista de precios originales de los productos: [145.6 100.   89.9 700.   95. ]\n",
            "Lista de precios actualizado de los productos: [ 291.2    200.     157.325 1225.     190.   ]\n"
          ]
        }
      ]
    },
    {
      "cell_type": "markdown",
      "source": [
        "***EJERCICIO 5***\n",
        "\n",
        "Completar la siguiente tabla de comandos y funciones que se utilizarán sobre vectores definidos a través de Numpy\n",
        "\n",
        "|    | Comando | operación y funcionalidad |resultado | ejemplo |\n",
        "|---|    ---   |               ---         |    ---   |    ---  |\n",
        "1   | np.array([lista])|     crea un vector o table con Numpy  |  matriz   |np.array([1.6, 2, 0, 6.75])\n",
        "2   |np.sqrt(vector)|       ***   |  *** |  np.sqrt(vector_np)\n",
        "3   |np.random.rand(n)|     ***   |  *** | np.random.rand(5)\n",
        "4   |np.ones((n))|          ***   |  *** | np.ones((3))\n",
        "5   |np.zeros((n))|         ***   |  *** | np.zeros((3))\n",
        "6   | np.min(array)|        ***   |valor mínimo| np.min(vector_np)\n",
        "7   | np.max(array)|        ***   |valor máximo| np.max(vector_np)\n",
        "8   | np.where(CONDICIÓN SOBRE EL VECTOR)| *** |***|np.where(vector_np>1)\n",
        "9   |np.random.shuffle(MATRIZ)|   ***  | *** | VER EJERCICIO PARTE 2\n",
        "10  |array.shape[n], n=0,1 |   ****   | *** | VER EJERCICIO PARTE 2\n",
        "11  |np.sum(array, axis=n), n=0,1|  ***| *** |VER EJERCICIO PARTE 1\n",
        "12  |np.arange(a, b, p)|  ***  | *** |np.arange(0, 10, 0.1) VER EJERCICIOS PARTE 3\n",
        "\n",
        "\n"
      ],
      "metadata": {
        "id": "zNFELZiHwE4O"
      },
      "id": "zNFELZiHwE4O"
    },
    {
      "cell_type": "code",
      "source": [
        "# Pruebas de comandos numpy\n",
        "lista = [1,2,3,4,5]\n",
        "\n",
        "#01 crea un vector o table con Numpy\tmatriz\n",
        "comando1 = np.array([lista])\n",
        "# print(comando1)\n",
        "\n",
        "#02 Calcula la raiz cuadrada de la lista ingresada como argumento. Devuelve una matriz con los resultados\n",
        "comando2 = np.sqrt(lista)\n",
        "#print(comando2,type(comando2))\n",
        "\n",
        "#03 Genera un array del tamaño indicado como argumento, Los valores correspoden a números aleatorios extraídos del intervalo [0, 1).\n",
        "# Devuelve una matriz con los resultados\n",
        "comando3 = \tnp.random.rand(5)\n",
        "#print(comando3,type(comando3))\n",
        "\n",
        "#04 Genera un array del tamaño indicado como argumento. Los valores son todos iguales a 1\n",
        "# Devuelve una matriz con los resultados.\n",
        "#Porque se pone con doble parentesis ??? (())\n",
        "comando4 = \tnp.ones((3))\n",
        "#comando4 = \tnp.ones (3)\n",
        "#print(comando4,type(comando4))\n",
        "\n",
        "#05 Genera un array del tamaño indicado como argumento. Los valores son todos iguales a 0\n",
        "# Devuelve una matriz con los resultados.\n",
        "#Porque se pone con doble parentesis ??? (())\n",
        "comando5 = \tnp.zeros((3))\n",
        "#print(comando5,type(comando5))\n",
        "\n",
        "\n",
        "#06 Se debe ingresar un vector como argumento. Devuelve el valor minimo de la lista\n",
        "comando6 = \tnp.min(lista)\n",
        "#print(comando6,type(comando6))\n",
        "\n",
        "#07 Se debe ingresar un vector como argumento. Devuelve el valor maximo de la lista\n",
        "comando7 = \tnp.max(lista)\n",
        "#print(comando7,type(comando7))\n",
        "\n",
        "#08 Se debe ingresar un vector como argumento y una condicion.\n",
        "#La función numpy. where acepta como argumentos de entrada una condición y dos estructuras tipo array, x e y,\n",
        "# y devuelve valores de x o de y en función de que se cumpla o no la condición: Si se cumple, se devuelve el valor de x.\n",
        "# Devuelve un objeto de tipo tupla ([],[])\n",
        "# Es decir que devuelve los valores en donde se cumple la condicion, por ejemplo los  numeros mayor a 2\n",
        "comando8 = \tnp.where(comando1>2)\n",
        "#print(comando8,type(comando8))\n",
        "\n",
        "\n",
        "#09 Se debe ingresar un vector como argumento. Se cambia el orden de los subconjuntos, pero su contenido sigue siendo el mismo.\n",
        "vectorDesordenado = np.array([\"Lunes\", \"Martes\", \"Miércoles\", \"Jueves\", \"Viernes\", \"Sábado\", \"Domingo\"])\n",
        "np.random.shuffle(vectorDesordenado)\n",
        "#print(vectorDesordenado)\n",
        "\n",
        "#10 Devuelve un arreglo (tupla) que indica el número de filas y el número de columnas (filas, columnas).\n",
        "# se debe ingresar un arreglo\n",
        "array = np.array([[1,2,3,4,5,6],[7,8,9,10,11,12]])\n",
        "comando10 = \tarray.shape\n",
        "#print(comando10,type(comando10))\n",
        "\n",
        "#11 Se debe ingresar un vector como argumento. Devuelve el valor de la suma de todos los valores del array\n",
        "comando11 = \tnp.sum(array)\n",
        "#print(comando11,type(comando11))\n",
        "\n",
        "#12 Se genera un conjunto de números entre un valor de inicio y uno final. Se puede ungresar un tercer parametro que corresponde al incremento entre los valores\n",
        "# Si no se detalla el tercer paametro, se toma como que es igual a 1\n",
        "# Devuelve un array de numpy\n",
        "comando12 = \tnp.arange(0, 10, 0.1)\n",
        "print(comando12,type(comando12))\n"
      ],
      "metadata": {
        "colab": {
          "base_uri": "https://localhost:8080/"
        },
        "id": "QkkUIirP1wf4",
        "outputId": "8e95f143-990e-445e-976b-2331dda794b1"
      },
      "id": "QkkUIirP1wf4",
      "execution_count": null,
      "outputs": [
        {
          "output_type": "stream",
          "name": "stdout",
          "text": [
            "[0.  0.1 0.2 0.3 0.4 0.5 0.6 0.7 0.8 0.9 1.  1.1 1.2 1.3 1.4 1.5 1.6 1.7\n",
            " 1.8 1.9 2.  2.1 2.2 2.3 2.4 2.5 2.6 2.7 2.8 2.9 3.  3.1 3.2 3.3 3.4 3.5\n",
            " 3.6 3.7 3.8 3.9 4.  4.1 4.2 4.3 4.4 4.5 4.6 4.7 4.8 4.9 5.  5.1 5.2 5.3\n",
            " 5.4 5.5 5.6 5.7 5.8 5.9 6.  6.1 6.2 6.3 6.4 6.5 6.6 6.7 6.8 6.9 7.  7.1\n",
            " 7.2 7.3 7.4 7.5 7.6 7.7 7.8 7.9 8.  8.1 8.2 8.3 8.4 8.5 8.6 8.7 8.8 8.9\n",
            " 9.  9.1 9.2 9.3 9.4 9.5 9.6 9.7 9.8 9.9] <class 'numpy.ndarray'>\n"
          ]
        }
      ]
    },
    {
      "cell_type": "markdown",
      "metadata": {
        "id": "eXzkUDjx-o6u"
      },
      "source": [
        "#  Funciones matemáticas sobre vectores\n",
        "En esta sección, se aplican funciones matemáticas a un vector utilizando Python puro y NumPy. Luego, se imprime el resultado de cada función.\n",
        "\n",
        "**ACLARACIÓN:** Estas funciones utilizan funciones y operaciones elementales matemáticas, sobre cada una de las posiciones del vector. Pero en general, se pueden definir funciones matemáticas que relacionan diferentes posiciones de un vector."
      ],
      "id": "eXzkUDjx-o6u"
    },
    {
      "cell_type": "code",
      "source": [],
      "metadata": {
        "id": "zKqlR8K11vro"
      },
      "id": "zKqlR8K11vro",
      "execution_count": null,
      "outputs": []
    },
    {
      "cell_type": "code",
      "execution_count": null,
      "metadata": {
        "id": "t12Cq_uD-o6u",
        "colab": {
          "base_uri": "https://localhost:8080/"
        },
        "outputId": "273caf3e-6d1a-4796-9801-8c9655d6261c"
      },
      "outputs": [
        {
          "output_type": "stream",
          "name": "stdout",
          "text": [
            "Raíz cuadrada en Python puro: [1.0, 1.4142135623730951, 1.7320508075688772, 2.0, 2.23606797749979]\n",
            "Raíz cuadrada en NumPy: [1.         1.41421356 1.73205081 2.         2.23606798]\n",
            "Vector al cuadrado en Python:  [1, 4, 9, 16, 25]\n",
            "logaritmo de un Vector en Python:  [0.0, 0.6931471805599453, 1.0986122886681098, 1.3862943611198906, 1.6094379124341003]\n",
            "logaritmo de un Vector en Numpy:  [0.         0.69314718 1.09861229 1.38629436 1.60943791]\n"
          ]
        }
      ],
      "source": [
        "import math\n",
        "vector_py = [1, 2, 3, 4, 5]\n",
        "vector_np = np.array([1, 2, 3, 4, 5])\n",
        "raiz_cuadrada_py = [math.sqrt(x) for x in vector_py]\n",
        "vector_cuad=[(x**2) for x in vector_np]\n",
        "vector_log=[math.log(x) for x in vector_np]\n",
        "raiz_cuadrada_np = np.sqrt(vector_np)\n",
        "vector_npLog=np.log(vector_np)\n",
        "print(\"Raíz cuadrada en Python puro:\", raiz_cuadrada_py)\n",
        "print(\"Raíz cuadrada en NumPy:\", raiz_cuadrada_np)\n",
        "print('Vector al cuadrado en Python: ',vector_cuad)\n",
        "print('logaritmo de un Vector en Python: ',vector_log)\n",
        "print('logaritmo de un Vector en Numpy: ',vector_npLog)"
      ],
      "id": "t12Cq_uD-o6u"
    },
    {
      "cell_type": "markdown",
      "metadata": {
        "id": "bry8WTMN-o6v"
      },
      "source": [
        "####  Rendimiento\n",
        "En esta celda, se mide el rendimiento de operaciones en un vector utilizando Python puro y NumPy. Se imprime el tiempo de ejecución de cada operación."
      ],
      "id": "bry8WTMN-o6v"
    },
    {
      "cell_type": "code",
      "execution_count": null,
      "metadata": {
        "colab": {
          "base_uri": "https://localhost:8080/"
        },
        "id": "JabuzFhf-o6v",
        "outputId": "f76a4e6e-fb98-4d35-be63-9abdb232d29b"
      },
      "outputs": [
        {
          "output_type": "stream",
          "name": "stdout",
          "text": [
            "Tiempo en Python puro: 0.08896446228027344 segundos\n",
            "Tiempo en NumPy: 3.647804260253906e-05 segundos\n"
          ]
        }
      ],
      "source": [
        "import time\n",
        "vector_py = [i for i in range(1000000)]\n",
        "vector_np = np.arange(1000000)\n",
        "\n",
        "start_time = time.time()\n",
        "[x * 2 for x in vector_py]\n",
        "end_time = time.time()\n",
        "print(\"Tiempo en Python puro:\", end_time - start_time, \"segundos\")\n",
        "\n",
        "start_time = time.time()\n",
        "end_time = time.time()\n",
        "print(\"Tiempo en NumPy:\", end_time - start_time, \"segundos\")"
      ],
      "id": "JabuzFhf-o6v"
    },
    {
      "cell_type": "markdown",
      "metadata": {
        "id": "iqiM6a2i-o6x"
      },
      "source": [
        "## Redimensionar un NumPy\n",
        "A continuación se presentan dos ejemplos de redimensionamiento de un NumPy:"
      ],
      "id": "iqiM6a2i-o6x"
    },
    {
      "cell_type": "markdown",
      "metadata": {
        "id": "fkDQpzMo-o6x"
      },
      "source": [
        "#### Redimensionamiento 1\n",
        "En esta celda, se crea un NumPy 'array' y se utiliza la función reshape() de NumPy para redimensionarlo a una forma diferente. Luego, se imprime el nuevo array."
      ],
      "id": "fkDQpzMo-o6x"
    },
    {
      "cell_type": "code",
      "execution_count": null,
      "metadata": {
        "colab": {
          "base_uri": "https://localhost:8080/"
        },
        "id": "zg5ygnQ6-o6x",
        "outputId": "00b3a554-f9a2-48bc-ede0-431bce376f5b"
      },
      "outputs": [
        {
          "output_type": "stream",
          "name": "stdout",
          "text": [
            "Primer array  [1 2 3 4 5 6]\n",
            "Nuevo array redimensionado: [[1 2 3]\n",
            " [4 5 6]]\n"
          ]
        }
      ],
      "source": [
        "array = np.array([1, 2, 3, 4, 5, 6])\n",
        "nuevo_array = array.reshape((2, 3)) #Lo redimensiona con 2 filas y 3 columnas\n",
        "print(\"Primer array \", array)\n",
        "print(\"Nuevo array redimensionado:\", nuevo_array)"
      ],
      "id": "zg5ygnQ6-o6x"
    },
    {
      "cell_type": "markdown",
      "metadata": {
        "id": "2xfwP-s5-o6x"
      },
      "source": [
        "#### Redimensionamiento 2\n",
        "En esta celda, se crea un NumPy 'array' y se utiliza la función np.resize() de NumPy para redimensionarlo a una forma diferente. Luego, se imprime el nuevo array."
      ],
      "id": "2xfwP-s5-o6x"
    },
    {
      "cell_type": "code",
      "execution_count": null,
      "metadata": {
        "colab": {
          "base_uri": "https://localhost:8080/"
        },
        "id": "cNbF-5i3-o6x",
        "outputId": "75b22cd0-9181-46a4-d5f1-e8d43087581a"
      },
      "outputs": [
        {
          "output_type": "stream",
          "name": "stdout",
          "text": [
            "Nuevo array redimensionado: [[1 2 3 4 5]\n",
            " [6 1 2 3 4]]\n"
          ]
        }
      ],
      "source": [
        "array = np.array([1, 2, 3, 4, 5, 6])\n",
        "nuevo_array = np.resize(array, (2, 3))\n",
        "print(\"Nuevo array redimensionado:\", nuevo_array)"
      ],
      "id": "cNbF-5i3-o6x"
    },
    {
      "cell_type": "code",
      "source": [
        "# https://stackoverflow.com/questions/41518351/what-is-the-difference-between-resize-and-reshape-when-using-arrays-in-numpy\n",
        "'''\n",
        "One major difference is reshape() does not change your data, but resize() does change it.\n",
        "resize() first accommodates all the values in the original array. After that, if extra space is there (or size of new array is greater than original array), it adds its own values\n",
        "'''"
      ],
      "metadata": {
        "id": "UCYboErXAGtm"
      },
      "id": "UCYboErXAGtm",
      "execution_count": null,
      "outputs": []
    },
    {
      "cell_type": "markdown",
      "source": [],
      "metadata": {
        "id": "bAS5pwZgAHQx"
      },
      "id": "bAS5pwZgAHQx"
    },
    {
      "cell_type": "markdown",
      "source": [
        "# ***EJERCICIOS PARTE 2***\n",
        "\n",
        "**Ejercicio 1:**\n",
        "\n",
        "Dado una matriz de datos, dividir el 70% de filas en un array_entrenamiento y el otro 30% en otro array_testeo. Esta distribución de filas de la matriz inicial, debe ser aleatoria. Mostrar las matrices al ser modificadas por el comando np.random.shuffle('matriz'). Finalmente mostrar los array_entrenamiento y array_testeo."
      ],
      "metadata": {
        "id": "2hHxd6eg6w1u"
      },
      "id": "2hHxd6eg6w1u"
    },
    {
      "cell_type": "code",
      "source": [
        "dataset = np.array([[25, 1, 7, 100, 1],\n",
        "                    [30, 2, 5, 120, 0],\n",
        "                    [22, 1, 6, 80, 1],\n",
        "                    [28, 1, 6, 90, 0],\n",
        "                    [35, 2, 4, 130, 1],\n",
        "                    [32, 2, 6, 110, 1],\n",
        "                    [26, 1, 8, 95, 1],\n",
        "                    [24, 1, 5, 85, 0],\n",
        "                    [29, 2, 7, 115, 1],\n",
        "                    [31, 2, 6, 105, 0]])\n",
        "# Primero se mezclan las filas de la matriz para obtener una distribución aleatoria de los datos\n",
        "np.random.shuffle(dataset)\n",
        "\n",
        "# Generamos array de entrenamiento y de testeo\n",
        "# Tomamos los datos desde el 0-7 datos (70%)\n",
        "array_entrenamiento = dataset[:int((len(dataset))* 0.7)]\n",
        "\n",
        "# Tomamos los ultimos 3 datos (30%). Considerando la longitud desde el 7 hasta el ultimo valor\n",
        "array_testeo = dataset[int((len(dataset))*0.7):]\n",
        "\n",
        "# Resultados\n",
        "print(f\"Longitud del dataset completo: {len(dataset)}\")\n",
        "print(f\"Longitud del array de entrenamiento: {len(array_entrenamiento)}\")\n",
        "print(f\"Longitud del array de testeo: {len(array_testeo)}\")\n",
        "print(\"--------   DATASET ORIGINAL MEZCLADO   --------\")\n",
        "print( dataset)\n",
        "print(\"--------   DATASET ENTRENAMIENTO   --------\")\n",
        "print(array_entrenamiento)\n",
        "print(\"--------   DATASET ENTRENAMIENTO   --------\")\n",
        "print(array_testeo)"
      ],
      "metadata": {
        "colab": {
          "base_uri": "https://localhost:8080/"
        },
        "id": "pzZwS3lF6M-6",
        "outputId": "38b2877b-21c9-4d5e-a89a-3b9543c1dffc"
      },
      "execution_count": null,
      "outputs": [
        {
          "output_type": "stream",
          "name": "stdout",
          "text": [
            "Longitud del dataset completo: 10\n",
            "Longitud del array de entrenamiento: 7\n",
            "Longitud del array de testeo: 3\n",
            "--------   DATASET ORIGINAL MEZCLADO   --------\n",
            "[[ 31   2   6 105   0]\n",
            " [ 30   2   5 120   0]\n",
            " [ 28   1   6  90   0]\n",
            " [ 25   1   7 100   1]\n",
            " [ 26   1   8  95   1]\n",
            " [ 29   2   7 115   1]\n",
            " [ 24   1   5  85   0]\n",
            " [ 22   1   6  80   1]\n",
            " [ 35   2   4 130   1]\n",
            " [ 32   2   6 110   1]]\n",
            "--------   DATASET ENTRENAMIENTO   --------\n",
            "[[ 31   2   6 105   0]\n",
            " [ 30   2   5 120   0]\n",
            " [ 28   1   6  90   0]\n",
            " [ 25   1   7 100   1]\n",
            " [ 26   1   8  95   1]\n",
            " [ 29   2   7 115   1]\n",
            " [ 24   1   5  85   0]]\n",
            "--------   DATASET ENTRENAMIENTO   --------\n",
            "[[ 22   1   6  80   1]\n",
            " [ 35   2   4 130   1]\n",
            " [ 32   2   6 110   1]]\n"
          ]
        }
      ],
      "id": "pzZwS3lF6M-6"
    },
    {
      "cell_type": "markdown",
      "source": [
        "**Ejercicio 2:**\n",
        "\n",
        "Dado la siguiente tabla de datos poblaciones de las Provincias de Argentina (Ejercicio 10 del Práctico 1), Realizar el siguiente analisis.\n",
        "\n",
        "\n",
        "\n",
        "*   indicar la cantidad de filas y columnas que posee la tabla de datos.\n",
        "*   Mostrar toda la información de la provincia con Mayor Cantidad de habitantes. AYUDA: usar la función np.max(array)\n",
        "*   Agregar a la tabla de datos una fila al final , indicando los totales de cada columna. Mostrar el resultado de la nueva tabla.\n",
        "\n"
      ],
      "metadata": {
        "id": "9WqSL4cG7LhH"
      },
      "id": "9WqSL4cG7LhH"
    },
    {
      "cell_type": "code",
      "source": [
        "poblacionArgentina1=[\n",
        "    ['PROVINCIA','CANTIDAD DE HABITANTES','CONSUMO EN MWH','SUPERFICIE EN KM^2'],\n",
        "    ['Buenos Aires','17569053',' 16543722',' 305907'],\n",
        "    ['Córdoba','3978984',' 10606601','164708'],\n",
        "    ['Santa Fe','3556522',' 13078203',' 133249'],\n",
        "    ['Ciudad Autónoma de Buenos Aires','3120612','51712507',' 201'],\n",
        "    ['Mendoza','2014533',' 5652519',' 149069'],\n",
        "    ['Tucumán','1703186','3208711','22524'],\n",
        "    ['Salta','1440672',' 2214796',' 155341'],\n",
        "    ['Entre Ríos','1426426','3906353','78384'],\n",
        "    ['Misiones','1280960','2845762',' 29911'],\n",
        "    ['Corrientes','1197553','2997612',' 89123'],\n",
        "    ['Chaco','1142963','3045380',' 99763'],\n",
        "    ['Santiago del Estero','1054028',' 1811277',' 136934'],\n",
        "    ['San Juan','818234',' 2381940',' 88296'],\n",
        "   ['Jujuy','797955',' 1136336',' 53244'],\n",
        "   ['Río Negro','762067',' 1984782','202169'],\n",
        "   ['Neuquén','726590','1834879',' 94422'],\n",
        "   ['Formosa','606041',' 1388311','75488'],\n",
        "   ['Chubut','603120','1646029',' 224302'],\n",
        "   ['San Luis','540905',' 1780881','75347'],\n",
        "   ['Catamarca','429556',' 1337032','101486'],\n",
        "   ['La Rioja','384607','1572290',' 91494'],\n",
        "   ['La Pampa','366022','915781',' 143493'],\n",
        "   ['Santa Cruz','333473',' 1025648',' 244458'],\n",
        "   ['Tierra del Fuego, Antártida e Islas del Atlántico Sur','190641','0',' 37131']]\n",
        "\n",
        "poblacionArgentina=np.array(poblacionArgentina1)\n",
        "\n",
        "print(poblacionArgentina)\n",
        "\n",
        "# Comentarios:\n",
        "# Se cambiaron algunos datos a mano. Por ejemplo la cantidad de habitantes porque tenia . entre medio de los datos.\n",
        "# Y no era posible pasarlo a int porque numpy no lo tomaba.\n",
        "# El otro cambio fue el cosumo de Tierra del Fuego, que tenia s/d. Si bien es posible hacer una suma eliminando los NANs () con np.nansum()\n",
        "# no era posible, porque primero habia que convertirlo en int y despues en\n",
        "poblacionArgentina.shape"
      ],
      "metadata": {
        "colab": {
          "base_uri": "https://localhost:8080/"
        },
        "id": "5h1AALwz8Eqo",
        "outputId": "d3969b04-909f-42d8-d0ae-9148e641616f"
      },
      "id": "5h1AALwz8Eqo",
      "execution_count": null,
      "outputs": [
        {
          "output_type": "stream",
          "name": "stdout",
          "text": [
            "[['PROVINCIA' 'CANTIDAD DE HABITANTES' 'CONSUMO EN MWH'\n",
            "  'SUPERFICIE EN KM^2']\n",
            " ['Buenos Aires' '17569053' ' 16543722' ' 305907']\n",
            " ['Córdoba' '3978984' ' 10606601' '164708']\n",
            " ['Santa Fe' '3556522' ' 13078203' ' 133249']\n",
            " ['Ciudad Autónoma de Buenos Aires' '3120612' '51712507' ' 201']\n",
            " ['Mendoza' '2014533' ' 5652519' ' 149069']\n",
            " ['Tucumán' '1703186' '3208711' '22524']\n",
            " ['Salta' '1440672' ' 2214796' ' 155341']\n",
            " ['Entre Ríos' '1426426' '3906353' '78384']\n",
            " ['Misiones' '1280960' '2845762' ' 29911']\n",
            " ['Corrientes' '1197553' '2997612' ' 89123']\n",
            " ['Chaco' '1142963' '3045380' ' 99763']\n",
            " ['Santiago del Estero' '1054028' ' 1811277' ' 136934']\n",
            " ['San Juan' '818234' ' 2381940' ' 88296']\n",
            " ['Jujuy' '797955' ' 1136336' ' 53244']\n",
            " ['Río Negro' '762067' ' 1984782' '202169']\n",
            " ['Neuquén' '726590' '1834879' ' 94422']\n",
            " ['Formosa' '606041' ' 1388311' '75488']\n",
            " ['Chubut' '603120' '1646029' ' 224302']\n",
            " ['San Luis' '540905' ' 1780881' '75347']\n",
            " ['Catamarca' '429556' ' 1337032' '101486']\n",
            " ['La Rioja' '384607' '1572290' ' 91494']\n",
            " ['La Pampa' '366022' '915781' ' 143493']\n",
            " ['Santa Cruz' '333473' ' 1025648' ' 244458']\n",
            " ['Tierra del Fuego, Antártida e Islas del Atlántico Sur' '190641' '0'\n",
            "  ' 37131']]\n"
          ]
        },
        {
          "output_type": "execute_result",
          "data": {
            "text/plain": [
              "(25, 4)"
            ]
          },
          "metadata": {},
          "execution_count": 51
        }
      ]
    },
    {
      "cell_type": "code",
      "source": [
        "# Ejercicio 1\n",
        "#indicar la cantidad de filas y columnas que posee la tabla de datos.\n",
        "shape = poblacionArgentina.shape\n",
        "print(f\"Numero de filas =  {shape[0]}\")\n",
        "print(f\"Numero de columnas =  {shape[1]} \")\n",
        "\n",
        "# Ejercicio 2\n",
        "#Mostrar toda la información de la provincia con Mayor Cantidad de habitantes. AYUDA: usar la función np.max(array)\n",
        "# Problema! los valores estan en str\n",
        "# Tomamos los valores de la columna de habitantes y la ponemos en formato int. Arrancamos el array en 1, porque el 0 corresponde al nombre de las columnas\n",
        "habitantesInt = np.array(poblacionArgentina[1:,1],dtype = 'int64' )\n",
        "# Obtenemos el valor maximo de habitantes, pero lo tranformamos en str para despues buscarlo\n",
        "valorMaxHabitantes = str(np.max(habitantesInt))\n",
        "#print(valorMaxHabitantes)\n",
        "\n",
        "# Buscamos la ubicacion donde esta el valor de los habitantes\n",
        "ubicacionMaxHabitantes = np.where(poblacionArgentina[:,1] == valorMaxHabitantes)\n",
        "#print(ubicacionMaxHabitantes)\n",
        "\n",
        "#Provincia con el numero mayor de habitantes\n",
        "provincia = poblacionArgentina[ubicacionMaxHabitantes,]\n",
        "#print(provincia)\n",
        "\n",
        "# Ejercicio 3\n",
        "#Agregar a la tabla de datos una fila al final , indicando los totales de cada columna. Mostrar el resultado de la nueva tabla.\n",
        "# Obtengo la suma total de cada columna por separdo\n",
        "habitantesTotal = sum(np.array(poblacionArgentina[1:,1],dtype = 'int64' ))\n",
        "#print(habitantesTotal)\n",
        "consumoTotal = np.nansum (np.array(poblacionArgentina[1:,2],dtype = 'int64' ))\n",
        "#print(consumoTotal)\n",
        "superficieTotal = np.nansum (np.array(poblacionArgentina[1:,3],dtype = 'int64' ))\n",
        "#print(superficieTotal)\n",
        "# Genero el vector con el total\n",
        "vectorTotal = [\"Total\",habitantesTotal,consumoTotal,superficieTotal]\n",
        "# Agrego el vectorTotal al vector original\n",
        "poblacionArgentina_Total = np.append(poblacionArgentina,[vectorTotal], axis=0)\n",
        "print(poblacionArgentina_Total)"
      ],
      "metadata": {
        "colab": {
          "base_uri": "https://localhost:8080/"
        },
        "id": "PGEr5i3LI2_i",
        "outputId": "f5e15621-e691-4ea5-f58c-a77a64780e48"
      },
      "id": "PGEr5i3LI2_i",
      "execution_count": null,
      "outputs": [
        {
          "output_type": "stream",
          "name": "stdout",
          "text": [
            "Numero de filas =  25\n",
            "Numero de columnas =  4 \n",
            "[['PROVINCIA' 'CANTIDAD DE HABITANTES' 'CONSUMO EN MWH'\n",
            "  'SUPERFICIE EN KM^2']\n",
            " ['Buenos Aires' '17569053' ' 16543722' ' 305907']\n",
            " ['Córdoba' '3978984' ' 10606601' '164708']\n",
            " ['Santa Fe' '3556522' ' 13078203' ' 133249']\n",
            " ['Ciudad Autónoma de Buenos Aires' '3120612' '51712507' ' 201']\n",
            " ['Mendoza' '2014533' ' 5652519' ' 149069']\n",
            " ['Tucumán' '1703186' '3208711' '22524']\n",
            " ['Salta' '1440672' ' 2214796' ' 155341']\n",
            " ['Entre Ríos' '1426426' '3906353' '78384']\n",
            " ['Misiones' '1280960' '2845762' ' 29911']\n",
            " ['Corrientes' '1197553' '2997612' ' 89123']\n",
            " ['Chaco' '1142963' '3045380' ' 99763']\n",
            " ['Santiago del Estero' '1054028' ' 1811277' ' 136934']\n",
            " ['San Juan' '818234' ' 2381940' ' 88296']\n",
            " ['Jujuy' '797955' ' 1136336' ' 53244']\n",
            " ['Río Negro' '762067' ' 1984782' '202169']\n",
            " ['Neuquén' '726590' '1834879' ' 94422']\n",
            " ['Formosa' '606041' ' 1388311' '75488']\n",
            " ['Chubut' '603120' '1646029' ' 224302']\n",
            " ['San Luis' '540905' ' 1780881' '75347']\n",
            " ['Catamarca' '429556' ' 1337032' '101486']\n",
            " ['La Rioja' '384607' '1572290' ' 91494']\n",
            " ['La Pampa' '366022' '915781' ' 143493']\n",
            " ['Santa Cruz' '333473' ' 1025648' ' 244458']\n",
            " ['Tierra del Fuego, Antártida e Islas del Atlántico Sur' '190641' '0'\n",
            "  ' 37131']\n",
            " ['Total' '46044703' '134627352' '2796444']]\n"
          ]
        }
      ]
    },
    {
      "cell_type": "markdown",
      "metadata": {
        "id": "lQwZW6nj-o67"
      },
      "source": [
        "# Ploteo de datos con Matplotlib\n",
        "A continuación se presentan ejemplos de diferentes tipos de gráficos utilizando Matplotlib:"
      ],
      "id": "lQwZW6nj-o67"
    },
    {
      "cell_type": "markdown",
      "metadata": {
        "id": "W6xs2svw-o67"
      },
      "source": [
        "## Gráfica de funciones matemáticas elementales\n",
        "En esta celda, se crea un array 'x' con valores en el rango de 0 a 10 y se utiliza la función np.sin() y np.cos() de NumPy para calcular el seno y coseno de cada valor en 'x'. Luego, se utiliza la biblioteca Matplotlib para trazar un gráfico de línea con 'x' en el eje x y 'y' en el eje y. También se agrega etiquetas y un título al gráfico."
      ],
      "id": "W6xs2svw-o67"
    },
    {
      "cell_type": "code",
      "execution_count": null,
      "metadata": {
        "colab": {
          "base_uri": "https://localhost:8080/",
          "height": 472
        },
        "id": "GQGdYmNN-o67",
        "outputId": "66092533-6397-4890-8b03-8b75b80c7404"
      },
      "outputs": [
        {
          "output_type": "display_data",
          "data": {
            "text/plain": [
              "<Figure size 640x480 with 1 Axes>"
            ],
            "image/png": "[encoded data removed]"
          },
          "metadata": {}
        }
      ],
      "source": [
        "import matplotlib.pyplot as plt\n",
        "\n",
        "x = np.arange(0, 10, 0.1)\n",
        "y = np.cos(x)\n",
        "\n",
        "plt.plot(x, y)\n",
        "plt.xlabel('x')\n",
        "plt.ylabel('y')\n",
        "plt.title('Gráfico de línea')\n",
        "plt.show()"
      ],
      "id": "GQGdYmNN-o67"
    },
    {
      "cell_type": "markdown",
      "source": [
        "# ***EJERCICIOS PARTE 3***\n",
        "\n",
        "Realizar las gráficas de als siguientes expresiones matemáticas. Determinar el dominio del eje x adecuado para plotear las funciones de manera que se visualice su comportamiento.\n",
        "\n",
        "\n",
        "*  $ y= 3x -2$\n",
        "*   $y= 2x^2+4x+2 $\n",
        "*   $y= \\vert x\\vert= \\begin{cases}-x & x < 0 \\\\ x & x\\ge 0                       \\end{cases}$\n",
        "*   $y= 1/x$\n",
        "*   $y=\\sqrt x$\n",
        "\n",
        "\n"
      ],
      "metadata": {
        "id": "Q0dztL-66aVb"
      },
      "id": "Q0dztL-66aVb"
    },
    {
      "cell_type": "code",
      "source": [],
      "metadata": {
        "colab": {
          "base_uri": "https://localhost:8080/",
          "height": 472
        },
        "id": "bnS0G4b9HfsU",
        "outputId": "16d204ce-0519-48d1-8336-71cfa1a712bb"
      },
      "id": "bnS0G4b9HfsU",
      "execution_count": null,
      "outputs": [
        {
          "output_type": "display_data",
          "data": {
            "text/plain": [
              "<Figure size 640x480 with 1 Axes>"
            ],
            "image/png": "[encoded data removed]"
          },
          "metadata": {}
        }
      ]
    },
    {
      "cell_type": "code",
      "source": [
        "\n",
        "import matplotlib.pyplot as plt\n",
        "#Funcion 1: y = 3x - 2\n",
        "x = np.arange(0, 10, 1)\n",
        "y = 3*x - 2\n",
        "\n",
        "plt.plot(x, y)\n",
        "plt.xlabel('x')\n",
        "plt.ylabel('y')\n",
        "plt.title('Funcion y = 3x - 2 ')\n",
        "plt.show()"
      ],
      "metadata": {
        "colab": {
          "base_uri": "https://localhost:8080/",
          "height": 472
        },
        "id": "hO-9v5s8hRht",
        "outputId": "95fd03ac-2a18-42da-9568-bbef15216b9a"
      },
      "id": "hO-9v5s8hRht",
      "execution_count": null,
      "outputs": [
        {
          "output_type": "display_data",
          "data": {
            "text/plain": [
              "<Figure size 640x480 with 1 Axes>"
            ],
            "image/png": "[encoded data removed]"
          },
          "metadata": {}
        }
      ]
    },
    {
      "cell_type": "code",
      "source": [
        "import matplotlib.pyplot as plt\n",
        "#Funcion 2: y = 2x^2 + 4x + 2\n",
        "x = np.arange(-50, 50,1)\n",
        "y = 2*x**2 + 4*x + 2\n",
        "\n",
        "plt.plot(x, y)\n",
        "plt.xlabel('x')\n",
        "plt.ylabel('y')\n",
        "plt.title('Funcion 2: y = 2x^2 + 4x + 2')\n",
        "plt.show()"
      ],
      "metadata": {
        "colab": {
          "base_uri": "https://localhost:8080/",
          "height": 472
        },
        "id": "7nvXg_DDh6tU",
        "outputId": "ce63343d-5bb9-4e85-9009-9799d0ee99d0"
      },
      "id": "7nvXg_DDh6tU",
      "execution_count": null,
      "outputs": [
        {
          "output_type": "display_data",
          "data": {
            "text/plain": [
              "<Figure size 640x480 with 1 Axes>"
            ],
            "image/png": "[encoded data removed]"
          },
          "metadata": {}
        }
      ]
    },
    {
      "cell_type": "code",
      "source": [
        "import matplotlib.pyplot as plt\n",
        "#Funcion 3: y = 3x - 2\n",
        "x = np.arange(-10, 11, 1)\n",
        "y = abs(x)\n",
        "\n",
        "plt.plot(x, y)\n",
        "plt.xlabel('x')\n",
        "plt.ylabel('y')\n",
        "plt.title('Funcion 3 y = |x|')\n",
        "plt.show()"
      ],
      "metadata": {
        "colab": {
          "base_uri": "https://localhost:8080/",
          "height": 472
        },
        "id": "vDoyQRwaMGcK",
        "outputId": "4529fc4e-ff55-46c0-db2a-4723c542e99e"
      },
      "id": "vDoyQRwaMGcK",
      "execution_count": null,
      "outputs": [
        {
          "output_type": "display_data",
          "data": {
            "text/plain": [
              "<Figure size 640x480 with 1 Axes>"
            ],
            "image/png": "[encoded data removed]"
          },
          "metadata": {}
        }
      ]
    },
    {
      "cell_type": "code",
      "source": [
        "import matplotlib.pyplot as plt\n",
        "#Funcion 4: y = 1/x\n",
        "x = np.arange(-10, 0, 0.1)\n",
        "y = 1/x\n",
        "\n",
        "plt.plot(x, y)\n",
        "plt.xlabel('x')\n",
        "plt.ylabel('y')\n",
        "plt.title('Funcion 4: 1/x')\n",
        "plt.show()"
      ],
      "metadata": {
        "colab": {
          "base_uri": "https://localhost:8080/",
          "height": 472
        },
        "id": "PoUMTkQoGBiU",
        "outputId": "9785452f-536d-4251-9017-5327e27c80a3"
      },
      "id": "PoUMTkQoGBiU",
      "execution_count": null,
      "outputs": [
        {
          "output_type": "display_data",
          "data": {
            "text/plain": [
              "<Figure size 640x480 with 1 Axes>"
            ],
            "image/png": "[encoded data removed]"
          },
          "metadata": {}
        }
      ]
    },
    {
      "cell_type": "code",
      "source": [
        "import matplotlib.pyplot as plt\n",
        "import math\n",
        "#Funcion 5: y = sqrt(x)\n",
        "x = np.arange(0, 1000, 0.1)\n",
        "y = np.sqrt(x)\n",
        "\n",
        "plt.plot(x, y)\n",
        "\n",
        "plt.xlabel('x')\n",
        "plt.ylabel('y')\n",
        "plt.title('Funcion 5: sqrt(x)')\n",
        "plt.show()"
      ],
      "metadata": {
        "colab": {
          "base_uri": "https://localhost:8080/",
          "height": 472
        },
        "id": "6jTRirMKGbka",
        "outputId": "817f63b4-6938-46cc-e2eb-3eb23f50d5a4"
      },
      "id": "6jTRirMKGbka",
      "execution_count": null,
      "outputs": [
        {
          "output_type": "display_data",
          "data": {
            "text/plain": [
              "<Figure size 640x480 with 1 Axes>"
            ],
            "image/png": "[encoded data removed]"
          },
          "metadata": {}
        }
      ]
    }
  ],
  "metadata": {
    "kernelspec": {
      "display_name": "Python 3",
      "language": "python",
      "name": "python3"
    },
    "language_info": {
      "codemirror_mode": {
        "name": "ipython",
        "version": 3
      },
      "file_extension": ".py",
      "mimetype": "text/x-python",
      "name": "python",
      "nbconvert_exporter": "python",
      "pygments_lexer": "ipython3",
      "version": "3.11.1"
    },
    "colab": {
      "provenance": []
    }
  },
  "nbformat": 4,
  "nbformat_minor": 5
}