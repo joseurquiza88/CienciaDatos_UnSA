{
  "cells": [
    {
      "cell_type": "markdown",
      "metadata": {
        "id": "2X7U2w7IebLm"
      },
      "source": [
        "# Trabajo Practico N1\n",
        "# Introduction al Dessarrollo en Python"
      ]
    },
    {
      "cell_type": "markdown",
      "metadata": {
        "id": "kwBfCKCRNyxc"
      },
      "source": [
        "**EJERCICIO 1**\n",
        "\n",
        "Determinar si un numero ingresado por el usuario es PAR"
      ]
    },
    {
      "cell_type": "markdown",
      "metadata": {
        "id": "3C51NfdL3s17"
      },
      "source": []
    },
    {
      "cell_type": "code",
      "source": [
        "#Solicitamos un numero al usuario del tipo INT\n",
        "num = int(input(\"Ingrese un numero \"))\n",
        "#Calculamos el resto\n",
        "resto = num % 2\n",
        "#print(resto)\n",
        "# Si el resto es 0 es par, sino NO\n",
        "if resto == 0:\n",
        "  print(f'El numero ingresado {num} es par')\n",
        "else:\n",
        "  print(f'El numero ingresado {num} NO es par')"
      ],
      "metadata": {
        "id": "VUnXuivCpRfT",
        "colab": {
          "base_uri": "https://localhost:8080/"
        },
        "outputId": "30c641f9-28c0-47ad-9283-af1ad9624dc8"
      },
      "execution_count": null,
      "outputs": [
        {
          "output_type": "stream",
          "name": "stdout",
          "text": [
            "Ingrese un numero 4\n",
            "0\n",
            "El numero ingresado 4 es par\n"
          ]
        }
      ]
    },
    {
      "cell_type": "markdown",
      "metadata": {
        "id": "KKY6JsexOCUy"
      },
      "source": [
        "**EJERCICIO 2**\n",
        "\n",
        "Determinar si un numero ingresado por el usuario esta DENTRO DEL RANGO [1,10] y es par. MUESTRE UN MENSAJE EN CASO CONTRARIO 'NÚMERO FUERA DEL RANGO'"
      ]
    },
    {
      "cell_type": "code",
      "source": [
        "#Solicitamos un numero al usuario del tipo INT\n",
        "num = int(input(\"Ingrese un numero \"))\n",
        "#Calculamos el resto\n",
        "resto = num % 2\n",
        "#print(resto)\n",
        "# Verificamos si el numero es par y si esta en el rango [1:10]\n",
        "if resto == 0 and num > 1 and num < 10:\n",
        "  print(f'El numero ingresado {num} es par y esta dentro del rando [1,10]')\n",
        "else:\n",
        "  print(f'NÚMERO FUERA DEL RANGO')"
      ],
      "metadata": {
        "colab": {
          "base_uri": "https://localhost:8080/"
        },
        "id": "toeuYfTIrKTv",
        "outputId": "ad41e2d4-ae1f-42a0-8ae1-e7ada85656af"
      },
      "execution_count": null,
      "outputs": [
        {
          "output_type": "stream",
          "name": "stdout",
          "text": [
            "Ingrese un numero 20\n",
            "NÚMERO FUERA DEL RANGO\n"
          ]
        }
      ]
    },
    {
      "cell_type": "markdown",
      "metadata": {
        "id": "cfitfYKpQK2O"
      },
      "source": [
        "**EJERCICIO 3 CICLO FOR**\n",
        "\n",
        "\n",
        "Solicitar al usuario que ingrese 10 números. Calcule la suma de todos los números ingresados y  cuente cuántos de ellos son par.\n"
      ]
    },
    {
      "cell_type": "code",
      "source": [
        "#Solicitamos al usuario 10 numeros\n",
        "# A los numeros los guardamos en una lista\n",
        "lista_numeros = []\n",
        "for i in range(1, 11): # La generamos hasta 11 porque no incluye el 10\n",
        "  num = int(input(\"Ingrese un numero \"))\n",
        "  # Los vamos guardando con append\n",
        "  lista_numeros.append(num)\n",
        "\n",
        "print(f'Los numeros ingresados son: {lista_numeros}')\n",
        "suma_lista = sum(lista_numeros)\n",
        "print(f'La suma de los valores ingesados es: {suma_lista}')\n",
        "\n",
        "#Recorremos la lista con los valores para conocer cuantos valores son par\n",
        "lista_par = []\n",
        "for i in lista_numeros:\n",
        "  #Calculamos el resto\n",
        "  resto = i % 2\n",
        "# # Si el resto es 0 es par, sino NO\n",
        "  if resto == 0:\n",
        "    par = 1\n",
        "  else:\n",
        "    par = 0\n",
        "  lista_par.append(par)\n",
        "suma_par = sum (lista_par)\n",
        "print(f'En la lista se ingresaron {suma_par} numeros par')\n"
      ],
      "metadata": {
        "colab": {
          "base_uri": "https://localhost:8080/"
        },
        "id": "DDjLUT8mtkh0",
        "outputId": "07c5bd29-684f-4c46-88e6-a18cbce9e881"
      },
      "execution_count": null,
      "outputs": [
        {
          "output_type": "stream",
          "name": "stdout",
          "text": [
            "Ingrese un numero 2\n",
            "Ingrese un numero 3\n",
            "Ingrese un numero 4\n",
            "Ingrese un numero 5\n",
            "Ingrese un numero 6\n",
            "Ingrese un numero 7\n",
            "Ingrese un numero 8\n",
            "Ingrese un numero 9\n",
            "Ingrese un numero 10\n",
            "Ingrese un numero 11\n",
            "Los numeros ingresados son: [2, 3, 4, 5, 6, 7, 8, 9, 10, 11]\n",
            "La suma de los valores ingesados es: 65\n",
            "En la lista se ingresaron 5 numeros par\n"
          ]
        }
      ]
    },
    {
      "cell_type": "markdown",
      "metadata": {
        "id": "7YyBaMyyRh7I"
      },
      "source": [
        "**EJERCICIOS 4**\n",
        "\n",
        "Mostrar todos los números presentes en el rango [56,1230]\n",
        "Solicitar al usuario que ingrese el rango [a,b] y muestre todos los números pertenecientes a él."
      ]
    },
    {
      "cell_type": "code",
      "source": [
        "# Recordar que en python, el ultimo valor no lo incluye por eso hay que ponerle +1 para que incluya el valor\n",
        "for i in range (56,1230+1):#65\n",
        "  print(i)\n"
      ],
      "metadata": {
        "colab": {
          "base_uri": "https://localhost:8080/"
        },
        "id": "LYHJfDQE0CaR",
        "outputId": "89fc6414-5f72-4deb-88d7-096609074cbe"
      },
      "execution_count": null,
      "outputs": [
        {
          "output_type": "stream",
          "name": "stdout",
          "text": [
            "56\n",
            "57\n",
            "58\n",
            "59\n",
            "60\n",
            "61\n",
            "62\n",
            "63\n",
            "64\n"
          ]
        }
      ]
    },
    {
      "cell_type": "code",
      "source": [
        "inicio = 10\n",
        "fin = 20\n",
        "for i in range (inicio,fin+1):\n",
        "  print(i)"
      ],
      "metadata": {
        "colab": {
          "base_uri": "https://localhost:8080/"
        },
        "id": "WmUK7rHZ0mTm",
        "outputId": "12efe948-9a03-4daa-aa8c-28f2906b55ec"
      },
      "execution_count": null,
      "outputs": [
        {
          "output_type": "stream",
          "name": "stdout",
          "text": [
            "10\n",
            "11\n",
            "12\n",
            "13\n",
            "14\n",
            "15\n",
            "16\n",
            "17\n",
            "18\n",
            "19\n"
          ]
        }
      ]
    },
    {
      "cell_type": "markdown",
      "metadata": {
        "id": "sCYdUm5DOpPk"
      },
      "source": [
        "**EJERCICIO 5 CICLO WHILE**\n",
        "\n",
        "Solicitar al usuario que ingrese un número, si es negativo o nulo , solicitar reiteradamente hasta que ingrese un numero positivo."
      ]
    },
    {
      "cell_type": "code",
      "source": [
        "def numeros():\n",
        "    while True:\n",
        "        num = input(\"Por favor ingrese un número: \")\n",
        "        #Si la celda esta vacia, se debe volver a ingesar valores\n",
        "        if not num :\n",
        "            print(\"El número no puede ser nulo. Por favor ingrese un número: \")\n",
        "        # Si es l numero es negativo,  se debe volver a ingesar valores\n",
        "        elif int(num) < 0 :\n",
        "            print(\"El número debe ser positivo. Por favor ingrese un número.\")\n",
        "        # Sino devolver el numero\n",
        "        else:\n",
        "            return int(num)\n",
        "# Prueba de la funcion\n",
        "prueba_num_negativo = numeros()\n",
        "print(\"Has ingresado un número positivo:\", prueba_num_negativo)\n"
      ],
      "metadata": {
        "colab": {
          "base_uri": "https://localhost:8080/"
        },
        "id": "RFSjXebj1D4Z",
        "outputId": "8b97101c-f035-485d-b0fd-4f9be963d0c6"
      },
      "execution_count": null,
      "outputs": [
        {
          "output_type": "stream",
          "name": "stdout",
          "text": [
            "Por favor ingrese un número: \n",
            "El número no puede ser nulo. Inténtalo nuevamente.\n",
            "Por favor ingrese un número: 1\n",
            "Has ingresado un número positivo: 1\n"
          ]
        }
      ]
    },
    {
      "cell_type": "markdown",
      "metadata": {
        "id": "yxB31mqka2i3"
      },
      "source": [
        "chicos, si ingresan un dato nulo (vacio), debo usar un while para que vuelva a pedir lo mismo, pero si es un dato no nulo pasa y el valor lo transfomamos en entero,\n",
        "y comparamos si es positivo. Si no lo es hay que pedir otro dato, pero puede ser nulo, entonces habría que hacer todo de nuevo. Por eso llamo en el  **else** a la funcion  **positivo**, para que inicie todo de nuevo.\n",
        "recuerden que para ejecutar una funcion hay que llamarla con su nombre y parentesis. Ejemplo: positivo()"
      ]
    },
    {
      "cell_type": "markdown",
      "metadata": {
        "id": "Snkm3EDCSb6n"
      },
      "source": [
        "**EJERCICIO 6**\n",
        "\n",
        "Solicitar al usuario que ingrese un número, si el número es positivo , solicitar reiteradamente hasta que ingrese un numero negativo. Luego mostrar dicho número si es par, en caso contrario mostrar un mensaje 'número ingresado impar'."
      ]
    },
    {
      "cell_type": "code",
      "source": [
        "def numeros_negativo():\n",
        "    while True:\n",
        "        #Si la celda esta vacia, se debe volver a ingesar valore\n",
        "        num = input(\"Por favor ingrese un número negativo: \")\n",
        "        if not num :\n",
        "            print(\"El número no puede ser nulo. Por favor ingrese un número: \")\n",
        "        # Si es el numero es positvo,  se debe volver a ingesar valores\n",
        "        elif int(num) > 0 :\n",
        "            print(\"El número debe ser negativo. Por favor ingrese un número.\")\n",
        "        # Si es negativo preguntar:\n",
        "        else:\n",
        "          # Calculamos el resto\n",
        "          resto = int(num) % 2\n",
        "          #Si es par\n",
        "          if resto == 0:\n",
        "            return print(f'El número ingresado es {int(num)}')\n",
        "          # Si es impar\n",
        "          else:\n",
        "            return print(f'El número ingresado {int(num)} es IMPAR')\n",
        "\n",
        "# Prueba de la funcion\n",
        "prueba_num_negativo = numeros_negativo()\n",
        "prueba_num_negativo"
      ],
      "metadata": {
        "colab": {
          "base_uri": "https://localhost:8080/"
        },
        "id": "3ESiAYV6-O3A",
        "outputId": "a14aea28-a594-4bfc-9f24-8ddfc3f25789"
      },
      "execution_count": null,
      "outputs": [
        {
          "output_type": "stream",
          "name": "stdout",
          "text": [
            "Por favor ingrese un número negativo: -5\n",
            "El número ingresado -5 es IMPAR\n"
          ]
        }
      ]
    },
    {
      "cell_type": "markdown",
      "metadata": {
        "id": "sypNigFYS3iU"
      },
      "source": [
        "**EJERCICIO 7 VECTORES CON CICLO FOR**\n",
        "\n",
        "Solicitar al usuario que ingrese la cantidad de elementos del vector.\n",
        "Ingresar cada elemento del vector y calcular su promedio.AYUDA: EL PROMEDIO ES LA SUMA DE TODOS LOS NÚMEROS DIVIDO LA CANTIDAD TOTAL.\n",
        "Mostrar el vector."
      ]
    },
    {
      "cell_type": "code",
      "source": [
        "# Se ingresa el numero de valores que se necesita pedir al usuario\n",
        "def promedios_vector(num_vectores):\n",
        "  lista_numeros = []\n",
        "  for i in range(1, num_vectores+1): # La generamos hasta 11 porque no incluye el 10\n",
        "    num = int(input(\"Ingrese un numero \"))\n",
        "    # Los vamos guardando con append\n",
        "    lista_numeros.append(num)\n",
        "  # Hacemos la suma\n",
        "  suma_lista_numeros = sum(lista_numeros)\n",
        "  # Hacemos el promedio\n",
        "  promedioVector = suma_lista_numeros/num_vectores\n",
        "  return print(f'El promedio de los numeros ingresados es igual a {round(promedioVector,2)}')\n",
        "\n",
        "# Prueba de la funcion\n",
        "promedios_vector(3)"
      ],
      "metadata": {
        "colab": {
          "base_uri": "https://localhost:8080/"
        },
        "id": "0BwQa_NvAiT9",
        "outputId": "78bbd197-4581-48ee-8e42-e4e64d11ade6"
      },
      "execution_count": null,
      "outputs": [
        {
          "output_type": "stream",
          "name": "stdout",
          "text": [
            "Ingrese un numero 3\n",
            "Ingrese un numero 1\n",
            "Ingrese un numero 1\n",
            "El promedio de los numeros ingresados es igual a 1.67\n"
          ]
        }
      ]
    },
    {
      "cell_type": "markdown",
      "metadata": {
        "id": "W15_ajQyULBo"
      },
      "source": [
        "**EJERCICIO 8 LISTA CON CICLO FOR**\n",
        "\n",
        "Solicitar a 10 usuario que ingresen los siguientes datos en el formato lista.\n",
        "\n",
        "['NOMBRE','APELLIDO', 'DNI','GASTOS MENSUALES DE HOGAR']\n",
        "\n",
        "Ingresar el final de la lista los siguientes usuarios:\n",
        "\n",
        "['ESTEBAN','LOPEZ', '45675400','190800.80']\n",
        "\n",
        "['NOELIA','ALEJA', '46906875','85900.50']\n",
        "\n",
        "Mostrar el vector.\n",
        "Eliminar el primer usuario de la lista."
      ]
    },
    {
      "cell_type": "code",
      "source": [
        "# Funcion que devuelve todos los usuarios ingresados\n",
        "def solicitar_usuarios():\n",
        "  lista_usuarios = []\n",
        "   # Solo hicimos la prueba para que se agreguen  usuarios\n",
        "  for i in range (1,3):#10+1):\n",
        "     #Solicitamos al usuario los datos\n",
        "    nombre = input(\"Ingrese su nombre \")\n",
        "    apellido = input(\"Ingrese su apellido \")\n",
        "    dni = int(input(\"Ingrese su DNI \"))\n",
        "    gastos = float(input(\"Ingrese sus gastos mensuales \"))\n",
        "    # Los concatenamos en una lista\n",
        "    lista_datos = [nombre,apellido, dni,gastos]\n",
        "    # Agregamos los datos a la lista\n",
        "    lista_usuarios.append(lista_datos)\n",
        "  #Retornamos lista\n",
        "  return lista_usuarios\n",
        "\n",
        "# Funcion que devuelve todos los usuarios ingresados eliminado el primero usuario ingresado\n",
        "def solicitar_usuarios_primero():\n",
        "  lista_usuarios = []\n",
        "  # Solo hicimos la prueba para que se agreguen 3 usuarios\n",
        "  for i in range (1,3):#10+1):\n",
        "    #Solicitamos al usuario los datos\n",
        "    nombre = input(\"Ingrese su nombre \")\n",
        "    apellido = input(\"Ingrese su apellido \")\n",
        "    dni = int(input(\"Ingrese su DNI \"))\n",
        "    gastos = float(input(\"Ingrese sus gastos mensuales \"))\n",
        "    # Los concatenamos en una lista\n",
        "    lista_datos = [nombre,apellido, dni,gastos]\n",
        "    # Agregamos los datos a la lista\n",
        "    lista_usuarios.append(lista_datos)\n",
        "  # Eliminamos el primer usuario ingresado\n",
        "  lista_usuarios.pop(0)\n",
        "  #Retornamos lista\n",
        "  return lista_usuarios\n",
        "\n",
        "# Pruebas de las funciones\n",
        "print(\"--------- Probando la primera funcion solicitar_usuarios()  ---------\")\n",
        "usuarios_completo = solicitar_usuarios()\n",
        "print(\"--------- Probando la segunda funcion solicitar_usuarios_primero()  ---------\")\n",
        "usuarios_primero = solicitar_usuarios_primero()"
      ],
      "metadata": {
        "colab": {
          "base_uri": "https://localhost:8080/"
        },
        "id": "G3m3ZkEVAh1F",
        "outputId": "505b6490-7c09-404b-9080-a166ea1ad2a7"
      },
      "execution_count": null,
      "outputs": [
        {
          "name": "stdout",
          "output_type": "stream",
          "text": [
            "--------- Probando la primera funcion solicitar_usuarios()  ---------\n",
            "Ingrese su nombre ESTEBAN\n",
            "Ingrese su apellido 'LOPEZ\n",
            "Ingrese su DNI 45675400\n",
            "Ingrese sus gastos mensuales 190800.80\n",
            "Ingrese su nombre NOELIA\n",
            "Ingrese su apellido ALEJA\n",
            "Ingrese su DNI 46906875\n",
            "Ingrese sus gastos mensuales 85900.50\n",
            "--------- Probando la segunda funcion solicitar_usuarios_primero()  ---------\n",
            "Ingrese su nombre ESTEBAN\n",
            "Ingrese su apellido LOPEZ\n",
            "Ingrese su DNI 45675400\n",
            "Ingrese sus gastos mensuales 190800.8\n",
            "Ingrese su nombre NOELIA\n",
            "Ingrese su apellido ALEJA\n",
            "Ingrese su DNI 46906875\n",
            "Ingrese sus gastos mensuales 85900.50\n"
          ]
        }
      ]
    },
    {
      "cell_type": "code",
      "source": [
        "# Resultados de las funciones\n",
        "print(\"--------- Resultados la primera funcion solicitar_usuarios()  ---------\")\n",
        "print(usuarios_completo)\n",
        "print(\"--------- Resultados la segunda funcion solicitar_usuarios_primero()  ---------\")\n",
        "print(usuarios_primero )"
      ],
      "metadata": {
        "colab": {
          "base_uri": "https://localhost:8080/"
        },
        "id": "dw7lWY3yMHvn",
        "outputId": "10dc9a3e-f391-41fa-97b0-5b9e969fa718"
      },
      "execution_count": null,
      "outputs": [
        {
          "output_type": "stream",
          "name": "stdout",
          "text": [
            "--------- Resultados la primera funcion solicitar_usuarios()  ---------\n",
            "[['ESTEBAN', \"'LOPEZ\", 45675400, 190800.8], ['NOELIA', 'ALEJA', 46906875, 85900.5]]\n",
            "--------- Resultados la segunda funcion solicitar_usuarios_primero()  ---------\n",
            "[['NOELIA', 'ALEJA', 46906875, 85900.5]]\n"
          ]
        }
      ]
    },
    {
      "cell_type": "markdown",
      "metadata": {
        "id": "vHZ23eGsrJe-"
      },
      "source": [
        "para probar como funciona cambien en el for el 10 por 2 y ejecuten ingrese los datos que le pidan y al terminar todo vuelvan a poner 10 en el for"
      ]
    },
    {
      "cell_type": "markdown",
      "metadata": {
        "id": "5x1DqNkpTWzi"
      },
      "source": [
        "**EJERCICIO 9 LISTA CON CICLO FOR**\n",
        "\n",
        "Buscar en la web los datos pablacionales de todas las provicias de Argentina , generando una lista con los siguiente información.\n",
        "\n",
        "['PROVINCIA','CANTIDAD DE HABITANTES', 'CONSUMO ELECTRICO PER CAPITA','SUPERFICIE EN M^2']\n",
        "\n",
        "\n",
        "\n",
        "Mostrar TODOS LOS DATOS DEL LISTADO.\n",
        "\n"
      ]
    },
    {
      "cell_type": "code",
      "source": [
        "  #Los datos son: [ID, 'PROVINCIA','CANTIDAD DE HABITANTES', 'SUPERFICIE EN KM^2']\n",
        "  datos_provincias = [\n",
        "        [1,'Buenos Aires',17569053, 307571],\n",
        "        [2,'Catamarca', 429556, 102602],\n",
        "        [3,'Chaco', 1142963,99633],\n",
        "        [4,'Chubut',603120, 224686],\n",
        "        [5,'Córdoba',3978984,165321],\n",
        "        [6,'Corrientes',1197553, 88199],\n",
        "        [7,'Entre Ríos', 1426426, 78781],\n",
        "        [8,'Formosa',606041,72066],\n",
        "        [9,'Jujuy',797955,53219],\n",
        "        [10, 'La Pampa',366022,143440],\n",
        "        [11, 'La Rioja',384607,89680],\n",
        "        [12, 'Mendoza',2014533,148827],\n",
        "        [13, 'Misiones',1280960,29801],\n",
        "        [14, 'Neuquén',726590,94078 ],\n",
        "        [15, 'Río Negro',762067, 203013],\n",
        "        [16, 'Salta',1440672,155488],\n",
        "        [17, 'San Juan',818234,89651],\n",
        "        [18, 'San Luis',540905,76748],\n",
        "        [19, 'Santa Cruz',333473,243943],\n",
        "        [20, 'Santa Fe',3556522,133007],\n",
        "        [21, 'Santiago del Estero',1054028,136351],\n",
        "        [22, 'Tierra del Fuego, Antártida e Islas del Atlántico Sur',190641,987168],\n",
        "        [23, 'Tucumán',1703186,22524]\n",
        "    ]\n",
        "  print(datos_provincias)\n",
        "\n"
      ],
      "metadata": {
        "colab": {
          "base_uri": "https://localhost:8080/"
        },
        "id": "6CqPikWOQDEz",
        "outputId": "a93efa9b-c01c-4c53-b3ff-4e4921395b6d"
      },
      "execution_count": null,
      "outputs": [
        {
          "output_type": "stream",
          "name": "stdout",
          "text": [
            "[[1, 'Buenos Aires', 17569053, 307571], [2, 'Catamarca', 429556, 102602], [3, 'Chaco', 1142963, 99633], [4, 'Chubut', 603120, 224686], [5, 'Córdoba', 3978984, 165321], [6, 'Corrientes', 1197553, 88199], [7, 'Entre Ríos', 1426426, 78781], [8, 'Formosa', 606041, 72066], [9, 'Jujuy', 797955, 53219], [10, 'La Pampa', 366022, 143440], [11, 'La Rioja', 384607, 89680], [12, 'Mendoza', 2014533, 148827], [13, 'Misiones', 1280960, 29801], [14, 'Neuquén', 726590, 94078], [15, 'Río Negro', 762067, 203013], [16, 'Salta', 1440672, 155488], [17, 'San Juan', 818234, 89651], [18, 'San Luis', 540905, 76748], [19, 'Santa Cruz', 333473, 243943], [20, 'Santa Fe', 3556522, 133007], [21, 'Santiago del Estero', 1054028, 136351], [22, 'Tierra del Fuego, Antártida e Islas del Atlántico Sur', 190641, 987168], [23, 'Tucumán', 1703186, 22524]]\n"
          ]
        }
      ]
    },
    {
      "cell_type": "markdown",
      "metadata": {
        "id": "i-vHT64rNKKA"
      },
      "source": []
    },
    {
      "cell_type": "markdown",
      "metadata": {
        "id": "SVaFh43fTwt3"
      },
      "source": [
        "**EJERCICIO 10 LISTAS**\n",
        "\n",
        "Crear una lista con información de estudianes de un colegio donde incluya los siguientes items:\n",
        "\n",
        "\n",
        "*   curso y división del aula del alumno\n",
        "*   nombre y apellidos\n",
        "*   DNI\n",
        "*   cantidad de notas en el primer trimestre\n",
        "*   INGRESAR CADA UNA DE ESAS NOTAS, POR EL USUARIO\n",
        "*   promedio del trimestre\n",
        "\n",
        "Mostrar todos los nombres y apellidos de los  alumnos\n",
        "Mostrar los alumnos con promedio mayor o igual a 6\n",
        "\n",
        "\n"
      ]
    },
    {
      "cell_type": "code",
      "source": [
        "# Funcion para crear y mostrar la lista de estudiantes de un colegio\n",
        "# Se deben ingesar 2 parametros: numero de notas a ingresar y numero de alumnos del colegio con notas\n",
        "def info_alumnos (num_notas, num_alumnos):\n",
        "  #Creamos lista vacia donde se agregaran los datos de los estudiantes\n",
        "  lista_alumnos = []\n",
        "  for j in range(1,num_alumnos+1):\n",
        "    # Solcitamos datos de los alumnos del colegio\n",
        "    nombre = input(\"Ingrese su nombre \")\n",
        "    apellido = input(\"Ingrese su apellido \")\n",
        "    dni = int(input(\"Ingrese su DNI \"))\n",
        "    curso = input(\"Ingrese el curso \")\n",
        "    division = input(\"Ingrese la comision \")\n",
        "     #Creamos lista vacia donde se agregaran las notas de cada uno de los estudiantes\n",
        "    lista_notas = []\n",
        "    # Solicitamos cada una de las notas\n",
        "    for i in range (1,num_notas+1):\n",
        "      notas = float(input(\"Ingrese la nota \"))\n",
        "      lista_notas.append(notas)\n",
        "    # Hacemos el promedio\n",
        "    promedio = round(sum(lista_notas)/num_notas,2)\n",
        "    # Hacemos una lista con los datos de interes por cada alumno\n",
        "    alumno = [nombre,apellido, dni,curso,division,promedio]\n",
        "      # Agregamos los datos a la lista\n",
        "    lista_alumnos.append(alumno)\n",
        "  # Devolvemos la lista con los datos de los alumnos y su promedio\n",
        "  return lista_alumnos\n",
        "\n",
        "# Prueba de la funcion\n",
        "prueba = info_alumnos(3,48)\n"
      ],
      "metadata": {
        "colab": {
          "base_uri": "https://localhost:8080/"
        },
        "id": "W17_TEpEyeQ1",
        "outputId": "3105709a-ee64-4dc9-ba41-110fc2809ccd"
      },
      "execution_count": null,
      "outputs": [
        {
          "name": "stdout",
          "output_type": "stream",
          "text": [
            "Ingrese su nombre Juliana\n",
            "Ingrese su apellido Perez\n",
            "Ingrese su DNI 36987456\n",
            "Ingrese el curso 1\n",
            "Ingrese la comision A\n",
            "Ingrese la nota 4\n",
            "Ingrese la nota 4\n",
            "Ingrese la nota 4\n",
            "Ingrese su nombre Octavio\n",
            "Ingrese su apellido Benedetti\n",
            "Ingrese su DNI 34987456\n",
            "Ingrese el curso 1\n",
            "Ingrese la comision a\n",
            "Ingrese la nota 10\n",
            "Ingrese la nota 9\n",
            "Ingrese la nota 8\n",
            "Ingrese su nombre Paz\n",
            "Ingrese su apellido Urquiza\n",
            "Ingrese su DNI 34987325\n",
            "Ingrese el curso 1\n",
            "Ingrese la comision A\n",
            "Ingrese la nota 3\n",
            "Ingrese la nota 3\n",
            "Ingrese la nota 3\n",
            "Ingrese su nombre Luciano\n",
            "Ingrese su apellido Ayrala\n",
            "Ingrese su DNI 35109575\n",
            "Ingrese el curso 1\n",
            "Ingrese la comision A\n",
            "Ingrese la nota 8\n",
            "Ingrese la nota 9\n",
            "Ingrese la nota 10\n"
          ]
        }
      ]
    },
    {
      "cell_type": "code",
      "source": [
        "# Generamos una lista vacia para mostrar los alumnos con promedio mayor o igual a 6\n",
        "lista_aprobados = []\n",
        "for indice, valor in enumerate(prueba):\n",
        "  #recorremos la lista, especificamente tomamos el valor del promedio y lo comparamos\n",
        "  if valor[5] >= 6:\n",
        "    # Generamos una lista con los datos de los alumnos aprobados\n",
        "    lista_aprobados.append(valor)\n",
        "    # Ademas, de la lista hacemos un print que nos dia el nombre y apellido del alumno aprobado\n",
        "    print(f\"{valor[0]} {valor[1]} esta APROBADO\")\n",
        "  else:\n",
        "    # Nombre y apellido del alumno NO aprobado\n",
        "    print(f\"{valor[0]} {valor[1]} esta desaprobado\")\n",
        "\n",
        "print(\"---------  LISTA DE APROBADOS  ---------\")\n",
        "print(lista_aprobados)"
      ],
      "metadata": {
        "colab": {
          "base_uri": "https://localhost:8080/"
        },
        "id": "4OlKMIKl6eNq",
        "outputId": "0a540fe0-c433-4971-94ba-c3a0014486e5"
      },
      "execution_count": null,
      "outputs": [
        {
          "output_type": "stream",
          "name": "stdout",
          "text": [
            "Juliana Perez esta desaprobado\n",
            "Octavio Benedetti esta APROBADO\n",
            "Paz Urquiza esta desaprobado\n",
            "Luciano Ayrala esta APROBADO\n",
            "---------  LISTA DE APROBADOS  ---------\n",
            "[['Octavio', 'Benedetti', 34987456, '1', 'a', 9.0], ['Luciano', 'Ayrala', 35109575, '1', 'A', 9.0]]\n"
          ]
        }
      ]
    }
  ],
  "metadata": {
    "colab": {
      "provenance": []
    },
    "kernelspec": {
      "display_name": "Python 3",
      "name": "python3"
    },
    "language_info": {
      "name": "python"
    }
  },
  "nbformat": 4,
  "nbformat_minor": 0
}